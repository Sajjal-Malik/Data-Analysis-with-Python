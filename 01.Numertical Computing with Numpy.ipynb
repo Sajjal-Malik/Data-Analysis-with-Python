{
 "cells": [
  {
   "cell_type": "code",
   "execution_count": 1,
   "id": "a96241c4-269a-40c1-bec5-0cc06686661a",
   "metadata": {},
   "outputs": [],
   "source": [
    "import numpy as np"
   ]
  },
  {
   "cell_type": "code",
   "execution_count": 2,
   "id": "21915636-9996-45f6-ae3a-5c537b209aa0",
   "metadata": {},
   "outputs": [],
   "source": [
    "w1, w2, w3 = 0.3, 0.2, 0.5"
   ]
  },
  {
   "cell_type": "code",
   "execution_count": 3,
   "id": "84ee1a80-ddd2-4c20-9049-0fa26b0de917",
   "metadata": {},
   "outputs": [],
   "source": [
    "kanto_temp = 73\n",
    "kanto_rainfall = 67\n",
    "kanto_humidity = 43"
   ]
  },
  {
   "cell_type": "code",
   "execution_count": 4,
   "id": "83f8feb1-b6ac-410c-8b0a-cebb7f896376",
   "metadata": {},
   "outputs": [],
   "source": [
    "kanto_yield_apples = kanto_temp * w1 + kanto_rainfall * w2 + kanto_humidity * w3"
   ]
  },
  {
   "cell_type": "code",
   "execution_count": 5,
   "id": "8507822f-1a44-4d18-8586-54c3b1f545c8",
   "metadata": {},
   "outputs": [
    {
     "name": "stdout",
     "output_type": "stream",
     "text": [
      "The expected yield of apple in region kanto is 56.8 tons per hectare\n"
     ]
    }
   ],
   "source": [
    "print(f\"The expected yield of apple in region kanto is {kanto_yield_apples} tons per hectare\")"
   ]
  },
  {
   "cell_type": "code",
   "execution_count": 6,
   "id": "ba084faa-7dec-4c98-a459-869f9f270a1f",
   "metadata": {},
   "outputs": [],
   "source": [
    "kanto = [73, 67, 43]\n",
    "johto = [91, 88, 64]\n",
    "hoenn = [87, 134, 58]\n",
    "sinnoh = [102, 43, 37]\n",
    "unova = [69, 96, 70]"
   ]
  },
  {
   "cell_type": "code",
   "execution_count": 7,
   "id": "4629b28d-6dd5-44f3-9e03-4231ea780bb0",
   "metadata": {},
   "outputs": [],
   "source": [
    "weights = [w1, w2, w3]"
   ]
  },
  {
   "cell_type": "code",
   "execution_count": 8,
   "id": "88f0390c-6e46-487d-b96d-702534165342",
   "metadata": {},
   "outputs": [
    {
     "data": {
      "text/plain": [
       "[73, 67, 43]"
      ]
     },
     "execution_count": 8,
     "metadata": {},
     "output_type": "execute_result"
    }
   ],
   "source": [
    "kanto"
   ]
  },
  {
   "cell_type": "code",
   "execution_count": 9,
   "id": "34e524b0-6006-4890-8e54-b7f6d6e18a4e",
   "metadata": {},
   "outputs": [
    {
     "data": {
      "text/plain": [
       "[0.3, 0.2, 0.5]"
      ]
     },
     "execution_count": 9,
     "metadata": {},
     "output_type": "execute_result"
    }
   ],
   "source": [
    "weights"
   ]
  },
  {
   "cell_type": "code",
   "execution_count": 10,
   "id": "bfe5c1ea-38b7-49da-b1a1-e363939fff68",
   "metadata": {},
   "outputs": [
    {
     "name": "stdout",
     "output_type": "stream",
     "text": [
      "Region Values: 73 Weight: 0.3\n",
      "Region Values: 67 Weight: 0.2\n",
      "Region Values: 43 Weight: 0.5\n"
     ]
    }
   ],
   "source": [
    "for region, weight in zip(kanto, weights):\n",
    "    print(\"Region Values:\", region, \"Weight:\", weight)"
   ]
  },
  {
   "cell_type": "code",
   "execution_count": 11,
   "id": "899eb724-92cc-4ffa-a9b2-5c3e3dabe484",
   "metadata": {},
   "outputs": [],
   "source": [
    "def crop_yields(region, weights):\n",
    "    result = 0\n",
    "    for x, w in zip(region, weights):\n",
    "        result += x * w\n",
    "    return result"
   ]
  },
  {
   "cell_type": "code",
   "execution_count": 12,
   "id": "68154b91-8f77-4d0f-90a6-ebe9c2b88d38",
   "metadata": {},
   "outputs": [
    {
     "data": {
      "text/plain": [
       "56.8"
      ]
     },
     "execution_count": 12,
     "metadata": {},
     "output_type": "execute_result"
    }
   ],
   "source": [
    "crop_yields(kanto, weights)"
   ]
  },
  {
   "cell_type": "code",
   "execution_count": 13,
   "id": "87ae0698-9338-4772-b185-124111e4c30c",
   "metadata": {},
   "outputs": [
    {
     "data": {
      "text/plain": [
       "76.9"
      ]
     },
     "execution_count": 13,
     "metadata": {},
     "output_type": "execute_result"
    }
   ],
   "source": [
    "crop_yields(johto, weights)"
   ]
  },
  {
   "cell_type": "code",
   "execution_count": 14,
   "id": "8258efd3-4ac5-4056-8b60-9a2653f6c9cf",
   "metadata": {},
   "outputs": [
    {
     "data": {
      "text/plain": [
       "57.699999999999996"
      ]
     },
     "execution_count": 14,
     "metadata": {},
     "output_type": "execute_result"
    }
   ],
   "source": [
    "crop_yields(sinnoh, weights)"
   ]
  },
  {
   "cell_type": "code",
   "execution_count": 15,
   "id": "157bbfe6-19ba-446f-a013-beb85e4e6bdc",
   "metadata": {},
   "outputs": [],
   "source": [
    "kanto = np.array([73, 67, 43])"
   ]
  },
  {
   "cell_type": "code",
   "execution_count": 16,
   "id": "0da25329-3427-47fc-b0ca-411bbda9c680",
   "metadata": {},
   "outputs": [
    {
     "data": {
      "text/plain": [
       "array([73, 67, 43])"
      ]
     },
     "execution_count": 16,
     "metadata": {},
     "output_type": "execute_result"
    }
   ],
   "source": [
    "kanto"
   ]
  },
  {
   "cell_type": "code",
   "execution_count": 17,
   "id": "c0f07f7a-fb2f-426f-8586-ab83d93c887a",
   "metadata": {},
   "outputs": [],
   "source": [
    "weights = np.array([w1, w2, w3])"
   ]
  },
  {
   "cell_type": "code",
   "execution_count": 18,
   "id": "839ce0e4-909a-4376-9d69-9da7bbff98ae",
   "metadata": {},
   "outputs": [
    {
     "data": {
      "text/plain": [
       "array([0.3, 0.2, 0.5])"
      ]
     },
     "execution_count": 18,
     "metadata": {},
     "output_type": "execute_result"
    }
   ],
   "source": [
    "weights"
   ]
  },
  {
   "cell_type": "code",
   "execution_count": 19,
   "id": "9cb85a43-35ea-4966-a13a-d0130f65a13e",
   "metadata": {},
   "outputs": [
    {
     "data": {
      "text/plain": [
       "numpy.ndarray"
      ]
     },
     "execution_count": 19,
     "metadata": {},
     "output_type": "execute_result"
    }
   ],
   "source": [
    "type(kanto)"
   ]
  },
  {
   "cell_type": "code",
   "execution_count": 20,
   "id": "b41005ef-dd83-402d-9b58-b21c54c8b92e",
   "metadata": {},
   "outputs": [
    {
     "data": {
      "text/plain": [
       "numpy.ndarray"
      ]
     },
     "execution_count": 20,
     "metadata": {},
     "output_type": "execute_result"
    }
   ],
   "source": [
    "type(weights)"
   ]
  },
  {
   "cell_type": "markdown",
   "id": "a9026bab-2b9f-4694-841b-55fb76b4c12d",
   "metadata": {},
   "source": [
    "Numpy Arrays also support Indexing Notation [i] like lists in Python"
   ]
  },
  {
   "cell_type": "code",
   "execution_count": 21,
   "id": "8a9e2be9-2d33-43e2-8e38-ddc36800ad86",
   "metadata": {},
   "outputs": [
    {
     "data": {
      "text/plain": [
       "73"
      ]
     },
     "execution_count": 21,
     "metadata": {},
     "output_type": "execute_result"
    }
   ],
   "source": [
    "kanto[0]"
   ]
  },
  {
   "cell_type": "code",
   "execution_count": 22,
   "id": "2332899e-9a74-4d6a-ab12-4196f6d6255a",
   "metadata": {},
   "outputs": [
    {
     "data": {
      "text/plain": [
       "0.5"
      ]
     },
     "execution_count": 22,
     "metadata": {},
     "output_type": "execute_result"
    }
   ],
   "source": [
    "weights[2]"
   ]
  },
  {
   "cell_type": "markdown",
   "id": "0bac1afb-fa4d-41fe-9546-4fb5fb30abb8",
   "metadata": {},
   "source": [
    "# Operating on Numpy Arrays"
   ]
  },
  {
   "cell_type": "code",
   "execution_count": 23,
   "id": "0da035dc-bfe2-4716-8d32-c6f897f99438",
   "metadata": {},
   "outputs": [
    {
     "name": "stdout",
     "output_type": "stream",
     "text": [
      "Help on _ArrayFunctionDispatcher in module numpy:\n",
      "\n",
      "dot(...)\n",
      "    dot(a, b, out=None)\n",
      "\n",
      "    Dot product of two arrays. Specifically,\n",
      "\n",
      "    - If both `a` and `b` are 1-D arrays, it is inner product of vectors\n",
      "      (without complex conjugation).\n",
      "\n",
      "    - If both `a` and `b` are 2-D arrays, it is matrix multiplication,\n",
      "      but using :func:`matmul` or ``a @ b`` is preferred.\n",
      "\n",
      "    - If either `a` or `b` is 0-D (scalar), it is equivalent to\n",
      "      :func:`multiply` and using ``numpy.multiply(a, b)`` or ``a * b`` is\n",
      "      preferred.\n",
      "\n",
      "    - If `a` is an N-D array and `b` is a 1-D array, it is a sum product over\n",
      "      the last axis of `a` and `b`.\n",
      "\n",
      "    - If `a` is an N-D array and `b` is an M-D array (where ``M>=2``), it is a\n",
      "      sum product over the last axis of `a` and the second-to-last axis of\n",
      "      `b`::\n",
      "\n",
      "        dot(a, b)[i,j,k,m] = sum(a[i,j,:] * b[k,:,m])\n",
      "\n",
      "    It uses an optimized BLAS library when possible (see `numpy.linalg`).\n",
      "\n",
      "    Parameters\n",
      "    ----------\n",
      "    a : array_like\n",
      "        First argument.\n",
      "    b : array_like\n",
      "        Second argument.\n",
      "    out : ndarray, optional\n",
      "        Output argument. This must have the exact kind that would be returned\n",
      "        if it was not used. In particular, it must have the right type, must be\n",
      "        C-contiguous, and its dtype must be the dtype that would be returned\n",
      "        for `dot(a,b)`. This is a performance feature. Therefore, if these\n",
      "        conditions are not met, an exception is raised, instead of attempting\n",
      "        to be flexible.\n",
      "\n",
      "    Returns\n",
      "    -------\n",
      "    output : ndarray\n",
      "        Returns the dot product of `a` and `b`.  If `a` and `b` are both\n",
      "        scalars or both 1-D arrays then a scalar is returned; otherwise\n",
      "        an array is returned.\n",
      "        If `out` is given, then it is returned.\n",
      "\n",
      "    Raises\n",
      "    ------\n",
      "    ValueError\n",
      "        If the last dimension of `a` is not the same size as\n",
      "        the second-to-last dimension of `b`.\n",
      "\n",
      "    See Also\n",
      "    --------\n",
      "    vdot : Complex-conjugating dot product.\n",
      "    tensordot : Sum products over arbitrary axes.\n",
      "    einsum : Einstein summation convention.\n",
      "    matmul : '@' operator as method with out parameter.\n",
      "    linalg.multi_dot : Chained dot product.\n",
      "\n",
      "    Examples\n",
      "    --------\n",
      "    >>> np.dot(3, 4)\n",
      "    12\n",
      "\n",
      "    Neither argument is complex-conjugated:\n",
      "\n",
      "    >>> np.dot([2j, 3j], [2j, 3j])\n",
      "    (-13+0j)\n",
      "\n",
      "    For 2-D arrays it is the matrix product:\n",
      "\n",
      "    >>> a = [[1, 0], [0, 1]]\n",
      "    >>> b = [[4, 1], [2, 2]]\n",
      "    >>> np.dot(a, b)\n",
      "    array([[4, 1],\n",
      "           [2, 2]])\n",
      "\n",
      "    >>> a = np.arange(3*4*5*6).reshape((3,4,5,6))\n",
      "    >>> b = np.arange(3*4*5*6)[::-1].reshape((5,4,6,3))\n",
      "    >>> np.dot(a, b)[2,3,2,1,2,2]\n",
      "    499128\n",
      "    >>> sum(a[2,3,2,:] * b[1,2,:,2])\n",
      "    499128\n",
      "\n"
     ]
    }
   ],
   "source": [
    "help(np.dot)"
   ]
  },
  {
   "cell_type": "code",
   "execution_count": 24,
   "id": "12206de0-119b-4b5d-8b4b-e00943b435a2",
   "metadata": {},
   "outputs": [
    {
     "data": {
      "text/plain": [
       "56.8"
      ]
     },
     "execution_count": 24,
     "metadata": {},
     "output_type": "execute_result"
    }
   ],
   "source": [
    "np.dot(kanto, weights)"
   ]
  },
  {
   "cell_type": "code",
   "execution_count": 25,
   "id": "684b9a9e-4670-4742-bc1c-0965a13467a3",
   "metadata": {},
   "outputs": [
    {
     "data": {
      "text/plain": [
       "array([73, 67, 43])"
      ]
     },
     "execution_count": 25,
     "metadata": {},
     "output_type": "execute_result"
    }
   ],
   "source": [
    "kanto"
   ]
  },
  {
   "cell_type": "code",
   "execution_count": 26,
   "id": "5aa2e1a2-0189-45d9-a149-766b737ee6ab",
   "metadata": {},
   "outputs": [
    {
     "data": {
      "text/plain": [
       "array([0.3, 0.2, 0.5])"
      ]
     },
     "execution_count": 26,
     "metadata": {},
     "output_type": "execute_result"
    }
   ],
   "source": [
    "weights"
   ]
  },
  {
   "cell_type": "code",
   "execution_count": 27,
   "id": "c86dedc6-644c-4a2a-8519-dbafbaa43c4e",
   "metadata": {},
   "outputs": [
    {
     "data": {
      "text/plain": [
       "array([21.9, 13.4, 21.5])"
      ]
     },
     "execution_count": 27,
     "metadata": {},
     "output_type": "execute_result"
    }
   ],
   "source": [
    "kanto * weights"
   ]
  },
  {
   "cell_type": "code",
   "execution_count": 28,
   "id": "e7cfad3d-ed39-41ad-8367-7778f2d7d5cc",
   "metadata": {},
   "outputs": [
    {
     "data": {
      "text/plain": [
       "56.8"
      ]
     },
     "execution_count": 28,
     "metadata": {},
     "output_type": "execute_result"
    }
   ],
   "source": [
    "(kanto * weights).sum()"
   ]
  },
  {
   "cell_type": "code",
   "execution_count": 29,
   "id": "93e4b70a-8a7a-46ac-b7d9-161535f2e79b",
   "metadata": {},
   "outputs": [],
   "source": [
    "# arr1 = np.array([1,2,3])\n",
    "# arr2 = np.array([4,5,6])"
   ]
  },
  {
   "cell_type": "code",
   "execution_count": 31,
   "id": "9953f13d-f827-4cf9-a863-db6d800aafea",
   "metadata": {},
   "outputs": [],
   "source": [
    "# arr1 * arr2"
   ]
  },
  {
   "cell_type": "code",
   "execution_count": 34,
   "id": "efa37118-0901-42a8-9f06-c6c500ef9f64",
   "metadata": {
    "scrolled": true
   },
   "outputs": [],
   "source": [
    "# arr1.sum()"
   ]
  },
  {
   "cell_type": "code",
   "execution_count": 33,
   "id": "7de682b9-1a98-474f-880b-8e5e41662e1d",
   "metadata": {},
   "outputs": [],
   "source": [
    "# arr2.sum()"
   ]
  },
  {
   "cell_type": "markdown",
   "id": "a903b452-2521-4026-9c46-41c32eddcd73",
   "metadata": {},
   "source": [
    "# Benefits of Using Numpy Arrays\n",
    "* Ease of Use\n",
    "* Performance"
   ]
  },
  {
   "cell_type": "code",
   "execution_count": 35,
   "id": "4cd50a74-aa92-46d4-b0f8-a0ed1bda8fb0",
   "metadata": {},
   "outputs": [],
   "source": [
    "# Lists in Python\n",
    "arr1 = list(range(100000))\n",
    "arr2 = list(range(100000, 200000))\n",
    "\n",
    "\n",
    "# Numpy Arrays\n",
    "arr1_np = np.array(arr1)\n",
    "arr2_np = np.array(arr2)"
   ]
  },
  {
   "cell_type": "code",
   "execution_count": 36,
   "id": "3e109c0f-9da6-42b1-995e-3048ffcb2439",
   "metadata": {},
   "outputs": [
    {
     "name": "stdout",
     "output_type": "stream",
     "text": [
      "833323333350000\n",
      "CPU times: total: 46.9 ms\n",
      "Wall time: 69 ms\n"
     ]
    }
   ],
   "source": [
    "%%time \n",
    "result = 0\n",
    "for x1, x2 in zip(arr1, arr2):\n",
    "    result += x1 * x2\n",
    "print(result)"
   ]
  },
  {
   "cell_type": "code",
   "execution_count": 37,
   "id": "5209f7c5-011e-4b86-9fa1-5f8778ee45db",
   "metadata": {},
   "outputs": [
    {
     "name": "stdout",
     "output_type": "stream",
     "text": [
      "CPU times: total: 0 ns\n",
      "Wall time: 0 ns\n"
     ]
    },
    {
     "data": {
      "text/plain": [
       "893678192"
      ]
     },
     "execution_count": 37,
     "metadata": {},
     "output_type": "execute_result"
    }
   ],
   "source": [
    "%%time\n",
    "np.dot(arr1_np, arr2_np)"
   ]
  },
  {
   "cell_type": "markdown",
   "id": "1dd19dab-8f81-41fc-94e4-c9d3e7d2a571",
   "metadata": {},
   "source": [
    "# Multi-Dimensional Numpy Arrays"
   ]
  },
  {
   "cell_type": "code",
   "execution_count": 38,
   "id": "a752b2cf-95b3-4ea4-b9bc-a117807ec551",
   "metadata": {},
   "outputs": [],
   "source": [
    "# 2D Array (matrix)\n",
    "climate_data = np.array([[73, 67, 43],\n",
    "                         [91, 88, 64],\n",
    "                         [87, 134, 58],\n",
    "                         [102, 43, 37],\n",
    "                         [69, 96, 70]])"
   ]
  },
  {
   "cell_type": "code",
   "execution_count": 39,
   "id": "fb081016-a8fb-4ee8-96dc-75b0c76e09a0",
   "metadata": {},
   "outputs": [
    {
     "data": {
      "text/plain": [
       "array([[ 73,  67,  43],\n",
       "       [ 91,  88,  64],\n",
       "       [ 87, 134,  58],\n",
       "       [102,  43,  37],\n",
       "       [ 69,  96,  70]])"
      ]
     },
     "execution_count": 39,
     "metadata": {},
     "output_type": "execute_result"
    }
   ],
   "source": [
    "climate_data"
   ]
  },
  {
   "cell_type": "code",
   "execution_count": 40,
   "id": "70837055-4231-4a9f-ae30-245e5109a8f6",
   "metadata": {},
   "outputs": [
    {
     "data": {
      "text/plain": [
       "(5, 3)"
      ]
     },
     "execution_count": 40,
     "metadata": {},
     "output_type": "execute_result"
    }
   ],
   "source": [
    "climate_data.shape"
   ]
  },
  {
   "cell_type": "code",
   "execution_count": 41,
   "id": "bd75e43c-8af1-4eb5-b727-c19445c8ab4e",
   "metadata": {},
   "outputs": [
    {
     "data": {
      "text/plain": [
       "array([0.3, 0.2, 0.5])"
      ]
     },
     "execution_count": 41,
     "metadata": {},
     "output_type": "execute_result"
    }
   ],
   "source": [
    "# 1D Array (vectir)\n",
    "weights"
   ]
  },
  {
   "cell_type": "code",
   "execution_count": 42,
   "id": "3215e5f6-7be6-42c7-981a-5ee14a3f1370",
   "metadata": {},
   "outputs": [
    {
     "data": {
      "text/plain": [
       "(3,)"
      ]
     },
     "execution_count": 42,
     "metadata": {},
     "output_type": "execute_result"
    }
   ],
   "source": [
    "weights.shape"
   ]
  },
  {
   "cell_type": "code",
   "execution_count": 43,
   "id": "1f8a2bbf-965f-4d97-995c-dbbe665cc6d7",
   "metadata": {},
   "outputs": [],
   "source": [
    "# 3D Array\n",
    "arr3 = np.array([\n",
    "                 [[11, 12, 13],\n",
    "                 [13, 14, 15]],\n",
    "                 [[15, 16, 17],\n",
    "                 [17, 18, 19.5]]])"
   ]
  },
  {
   "cell_type": "code",
   "execution_count": 44,
   "id": "b62dc4f8-e05a-4d26-8df8-873697c9c001",
   "metadata": {},
   "outputs": [
    {
     "data": {
      "text/plain": [
       "array([[[11. , 12. , 13. ],\n",
       "        [13. , 14. , 15. ]],\n",
       "\n",
       "       [[15. , 16. , 17. ],\n",
       "        [17. , 18. , 19.5]]])"
      ]
     },
     "execution_count": 44,
     "metadata": {},
     "output_type": "execute_result"
    }
   ],
   "source": [
    "arr3"
   ]
  },
  {
   "cell_type": "code",
   "execution_count": 45,
   "id": "77f9459b-59c5-4e36-b581-6799a9fa7eb7",
   "metadata": {},
   "outputs": [
    {
     "data": {
      "text/plain": [
       "(2, 2, 3)"
      ]
     },
     "execution_count": 45,
     "metadata": {},
     "output_type": "execute_result"
    }
   ],
   "source": [
    "arr3.shape"
   ]
  },
  {
   "cell_type": "code",
   "execution_count": 46,
   "id": "2f4a17c7-f6c5-4003-83b0-41ded051ed55",
   "metadata": {},
   "outputs": [
    {
     "data": {
      "text/plain": [
       "dtype('float64')"
      ]
     },
     "execution_count": 46,
     "metadata": {},
     "output_type": "execute_result"
    }
   ],
   "source": [
    "weights.dtype"
   ]
  },
  {
   "cell_type": "code",
   "execution_count": 47,
   "id": "e8b77567-50d1-4fc6-bc83-e1f9ecde0219",
   "metadata": {},
   "outputs": [
    {
     "data": {
      "text/plain": [
       "dtype('int32')"
      ]
     },
     "execution_count": 47,
     "metadata": {},
     "output_type": "execute_result"
    }
   ],
   "source": [
    "climate_data.dtype"
   ]
  },
  {
   "cell_type": "code",
   "execution_count": 48,
   "id": "f434a87c-ad9c-4977-b202-8888460a3e35",
   "metadata": {
    "scrolled": true
   },
   "outputs": [
    {
     "data": {
      "text/plain": [
       "dtype('float64')"
      ]
     },
     "execution_count": 48,
     "metadata": {},
     "output_type": "execute_result"
    }
   ],
   "source": [
    "arr3.dtype"
   ]
  },
  {
   "cell_type": "code",
   "execution_count": 49,
   "id": "daf4453c-2504-435b-8aa7-17a152063971",
   "metadata": {},
   "outputs": [
    {
     "data": {
      "text/plain": [
       "array([[ 73,  67,  43],\n",
       "       [ 91,  88,  64],\n",
       "       [ 87, 134,  58],\n",
       "       [102,  43,  37],\n",
       "       [ 69,  96,  70]])"
      ]
     },
     "execution_count": 49,
     "metadata": {},
     "output_type": "execute_result"
    }
   ],
   "source": [
    "climate_data"
   ]
  },
  {
   "cell_type": "code",
   "execution_count": 50,
   "id": "9a64d8ba-8971-4629-9697-37fbeec2bc73",
   "metadata": {},
   "outputs": [
    {
     "data": {
      "text/plain": [
       "array([0.3, 0.2, 0.5])"
      ]
     },
     "execution_count": 50,
     "metadata": {},
     "output_type": "execute_result"
    }
   ],
   "source": [
    "weights"
   ]
  },
  {
   "cell_type": "code",
   "execution_count": 51,
   "id": "b45ccf03-3268-4b7b-9d14-4dd9e63c45a4",
   "metadata": {},
   "outputs": [
    {
     "data": {
      "text/plain": [
       "array([56.8, 76.9, 81.9, 57.7, 74.9])"
      ]
     },
     "execution_count": 51,
     "metadata": {},
     "output_type": "execute_result"
    }
   ],
   "source": [
    "# matrix multiplication\n",
    "np.matmul(climate_data, weights) "
   ]
  },
  {
   "cell_type": "code",
   "execution_count": 52,
   "id": "bb734fd1-8dc8-4bcb-b24a-4efb8ca0150c",
   "metadata": {},
   "outputs": [
    {
     "data": {
      "text/plain": [
       "array([56.8, 76.9, 81.9, 57.7, 74.9])"
      ]
     },
     "execution_count": 52,
     "metadata": {},
     "output_type": "execute_result"
    }
   ],
   "source": [
    "climate_data @ weights"
   ]
  },
  {
   "cell_type": "markdown",
   "id": "b62fe651-afb2-453d-a05c-702660f5ecd8",
   "metadata": {},
   "source": [
    "# Workign with CSV data files"
   ]
  },
  {
   "cell_type": "code",
   "execution_count": 53,
   "id": "9810cdeb-40c8-4988-9261-7cf447c4022b",
   "metadata": {},
   "outputs": [],
   "source": [
    "climate_data = np.genfromtxt('temperature_rainfall_humidity_10000.txt', delimiter=',', skip_header=1)"
   ]
  },
  {
   "cell_type": "code",
   "execution_count": 54,
   "id": "36b87d36-50e2-4643-b5b9-3d20ba0f234a",
   "metadata": {},
   "outputs": [
    {
     "data": {
      "text/plain": [
       "array([[2.081e+01, 4.000e-02, 4.605e+01],\n",
       "       [6.437e+01, 9.020e+01, 3.013e+01],\n",
       "       [3.518e+01, 5.480e+00, 1.821e+01],\n",
       "       ...,\n",
       "       [7.269e+01, 9.380e+00, 3.023e+01],\n",
       "       [3.171e+01, 6.710e+01, 8.569e+01],\n",
       "       [8.205e+01, 1.239e+01, 7.624e+01]])"
      ]
     },
     "execution_count": 54,
     "metadata": {},
     "output_type": "execute_result"
    }
   ],
   "source": [
    "climate_data"
   ]
  },
  {
   "cell_type": "code",
   "execution_count": 55,
   "id": "615340d6-ca36-4207-87ff-cd1c0f998c10",
   "metadata": {},
   "outputs": [
    {
     "data": {
      "text/plain": [
       "(10000, 3)"
      ]
     },
     "execution_count": 55,
     "metadata": {},
     "output_type": "execute_result"
    }
   ],
   "source": [
    "climate_data.shape"
   ]
  },
  {
   "cell_type": "code",
   "execution_count": 56,
   "id": "5d4efb7a-10a8-40ab-84f4-2e46314af842",
   "metadata": {},
   "outputs": [],
   "source": [
    "weights = np.array([0.3, 0.2, 0.5])"
   ]
  },
  {
   "cell_type": "code",
   "execution_count": 57,
   "id": "61c33817-0c6e-4040-931a-240151fb8a93",
   "metadata": {},
   "outputs": [],
   "source": [
    "yields = climate_data @ weights"
   ]
  },
  {
   "cell_type": "code",
   "execution_count": 58,
   "id": "639b5fc6-d6e2-442f-a56e-a18de16925fe",
   "metadata": {},
   "outputs": [
    {
     "data": {
      "text/plain": [
       "array([29.276, 52.416, 20.755, ..., 38.798, 65.778, 65.213])"
      ]
     },
     "execution_count": 58,
     "metadata": {},
     "output_type": "execute_result"
    }
   ],
   "source": [
    "yields"
   ]
  },
  {
   "cell_type": "code",
   "execution_count": 59,
   "id": "fae29551-9be2-487e-b3cc-131374e747ea",
   "metadata": {},
   "outputs": [
    {
     "data": {
      "text/plain": [
       "(10000,)"
      ]
     },
     "execution_count": 59,
     "metadata": {},
     "output_type": "execute_result"
    }
   ],
   "source": [
    "yields.shape"
   ]
  },
  {
   "cell_type": "code",
   "execution_count": 60,
   "id": "dfb5fce9-4c03-4186-a79b-5f430bcf16c4",
   "metadata": {},
   "outputs": [],
   "source": [
    "climate_results = np.concatenate((climate_data, yields.reshape(10000, 1)), axis=1)"
   ]
  },
  {
   "cell_type": "code",
   "execution_count": 61,
   "id": "1b071296-0902-493a-9faa-895151e28c12",
   "metadata": {},
   "outputs": [
    {
     "data": {
      "text/plain": [
       "array([[2.0810e+01, 4.0000e-02, 4.6050e+01, 2.9276e+01],\n",
       "       [6.4370e+01, 9.0200e+01, 3.0130e+01, 5.2416e+01],\n",
       "       [3.5180e+01, 5.4800e+00, 1.8210e+01, 2.0755e+01],\n",
       "       ...,\n",
       "       [7.2690e+01, 9.3800e+00, 3.0230e+01, 3.8798e+01],\n",
       "       [3.1710e+01, 6.7100e+01, 8.5690e+01, 6.5778e+01],\n",
       "       [8.2050e+01, 1.2390e+01, 7.6240e+01, 6.5213e+01]])"
      ]
     },
     "execution_count": 61,
     "metadata": {},
     "output_type": "execute_result"
    }
   ],
   "source": [
    "climate_results"
   ]
  },
  {
   "cell_type": "code",
   "execution_count": 62,
   "id": "3cb56caa-0a69-43ca-abe7-85436b46fbed",
   "metadata": {},
   "outputs": [
    {
     "name": "stdout",
     "output_type": "stream",
     "text": [
      "Help on _ArrayFunctionDispatcher in module numpy:\n",
      "\n",
      "concatenate(...)\n",
      "    concatenate((a1, a2, ...), axis=0, out=None, dtype=None, casting=\"same_kind\")\n",
      "\n",
      "    Join a sequence of arrays along an existing axis.\n",
      "\n",
      "    Parameters\n",
      "    ----------\n",
      "    a1, a2, ... : sequence of array_like\n",
      "        The arrays must have the same shape, except in the dimension\n",
      "        corresponding to `axis` (the first, by default).\n",
      "    axis : int, optional\n",
      "        The axis along which the arrays will be joined.  If axis is None,\n",
      "        arrays are flattened before use.  Default is 0.\n",
      "    out : ndarray, optional\n",
      "        If provided, the destination to place the result. The shape must be\n",
      "        correct, matching that of what concatenate would have returned if no\n",
      "        out argument were specified.\n",
      "    dtype : str or dtype\n",
      "        If provided, the destination array will have this dtype. Cannot be\n",
      "        provided together with `out`.\n",
      "\n",
      "        .. versionadded:: 1.20.0\n",
      "\n",
      "    casting : {'no', 'equiv', 'safe', 'same_kind', 'unsafe'}, optional\n",
      "        Controls what kind of data casting may occur. Defaults to 'same_kind'.\n",
      "\n",
      "        .. versionadded:: 1.20.0\n",
      "\n",
      "    Returns\n",
      "    -------\n",
      "    res : ndarray\n",
      "        The concatenated array.\n",
      "\n",
      "    See Also\n",
      "    --------\n",
      "    ma.concatenate : Concatenate function that preserves input masks.\n",
      "    array_split : Split an array into multiple sub-arrays of equal or\n",
      "                  near-equal size.\n",
      "    split : Split array into a list of multiple sub-arrays of equal size.\n",
      "    hsplit : Split array into multiple sub-arrays horizontally (column wise).\n",
      "    vsplit : Split array into multiple sub-arrays vertically (row wise).\n",
      "    dsplit : Split array into multiple sub-arrays along the 3rd axis (depth).\n",
      "    stack : Stack a sequence of arrays along a new axis.\n",
      "    block : Assemble arrays from blocks.\n",
      "    hstack : Stack arrays in sequence horizontally (column wise).\n",
      "    vstack : Stack arrays in sequence vertically (row wise).\n",
      "    dstack : Stack arrays in sequence depth wise (along third dimension).\n",
      "    column_stack : Stack 1-D arrays as columns into a 2-D array.\n",
      "\n",
      "    Notes\n",
      "    -----\n",
      "    When one or more of the arrays to be concatenated is a MaskedArray,\n",
      "    this function will return a MaskedArray object instead of an ndarray,\n",
      "    but the input masks are *not* preserved. In cases where a MaskedArray\n",
      "    is expected as input, use the ma.concatenate function from the masked\n",
      "    array module instead.\n",
      "\n",
      "    Examples\n",
      "    --------\n",
      "    >>> a = np.array([[1, 2], [3, 4]])\n",
      "    >>> b = np.array([[5, 6]])\n",
      "    >>> np.concatenate((a, b), axis=0)\n",
      "    array([[1, 2],\n",
      "           [3, 4],\n",
      "           [5, 6]])\n",
      "    >>> np.concatenate((a, b.T), axis=1)\n",
      "    array([[1, 2, 5],\n",
      "           [3, 4, 6]])\n",
      "    >>> np.concatenate((a, b), axis=None)\n",
      "    array([1, 2, 3, 4, 5, 6])\n",
      "\n",
      "    This function will not preserve masking of MaskedArray inputs.\n",
      "\n",
      "    >>> a = np.ma.arange(3)\n",
      "    >>> a[1] = np.ma.masked\n",
      "    >>> b = np.arange(2, 5)\n",
      "    >>> a\n",
      "    masked_array(data=[0, --, 2],\n",
      "                 mask=[False,  True, False],\n",
      "           fill_value=999999)\n",
      "    >>> b\n",
      "    array([2, 3, 4])\n",
      "    >>> np.concatenate([a, b])\n",
      "    masked_array(data=[0, 1, 2, 2, 3, 4],\n",
      "                 mask=False,\n",
      "           fill_value=999999)\n",
      "    >>> np.ma.concatenate([a, b])\n",
      "    masked_array(data=[0, --, 2, 2, 3, 4],\n",
      "                 mask=[False,  True, False, False, False, False],\n",
      "           fill_value=999999)\n",
      "\n"
     ]
    }
   ],
   "source": [
    "help(np.concatenate)"
   ]
  },
  {
   "cell_type": "code",
   "execution_count": 63,
   "id": "761bf5c9-4099-473b-a730-f09bfb16dac6",
   "metadata": {},
   "outputs": [
    {
     "name": "stdout",
     "output_type": "stream",
     "text": [
      "Help on _ArrayFunctionDispatcher in module numpy:\n",
      "\n",
      "reshape(a, newshape, order='C')\n",
      "    Gives a new shape to an array without changing its data.\n",
      "\n",
      "    Parameters\n",
      "    ----------\n",
      "    a : array_like\n",
      "        Array to be reshaped.\n",
      "    newshape : int or tuple of ints\n",
      "        The new shape should be compatible with the original shape. If\n",
      "        an integer, then the result will be a 1-D array of that length.\n",
      "        One shape dimension can be -1. In this case, the value is\n",
      "        inferred from the length of the array and remaining dimensions.\n",
      "    order : {'C', 'F', 'A'}, optional\n",
      "        Read the elements of `a` using this index order, and place the\n",
      "        elements into the reshaped array using this index order.  'C'\n",
      "        means to read / write the elements using C-like index order,\n",
      "        with the last axis index changing fastest, back to the first\n",
      "        axis index changing slowest. 'F' means to read / write the\n",
      "        elements using Fortran-like index order, with the first index\n",
      "        changing fastest, and the last index changing slowest. Note that\n",
      "        the 'C' and 'F' options take no account of the memory layout of\n",
      "        the underlying array, and only refer to the order of indexing.\n",
      "        'A' means to read / write the elements in Fortran-like index\n",
      "        order if `a` is Fortran *contiguous* in memory, C-like order\n",
      "        otherwise.\n",
      "\n",
      "    Returns\n",
      "    -------\n",
      "    reshaped_array : ndarray\n",
      "        This will be a new view object if possible; otherwise, it will\n",
      "        be a copy.  Note there is no guarantee of the *memory layout* (C- or\n",
      "        Fortran- contiguous) of the returned array.\n",
      "\n",
      "    See Also\n",
      "    --------\n",
      "    ndarray.reshape : Equivalent method.\n",
      "\n",
      "    Notes\n",
      "    -----\n",
      "    It is not always possible to change the shape of an array without copying\n",
      "    the data.\n",
      "\n",
      "    The `order` keyword gives the index ordering both for *fetching* the values\n",
      "    from `a`, and then *placing* the values into the output array.\n",
      "    For example, let's say you have an array:\n",
      "\n",
      "    >>> a = np.arange(6).reshape((3, 2))\n",
      "    >>> a\n",
      "    array([[0, 1],\n",
      "           [2, 3],\n",
      "           [4, 5]])\n",
      "\n",
      "    You can think of reshaping as first raveling the array (using the given\n",
      "    index order), then inserting the elements from the raveled array into the\n",
      "    new array using the same kind of index ordering as was used for the\n",
      "    raveling.\n",
      "\n",
      "    >>> np.reshape(a, (2, 3)) # C-like index ordering\n",
      "    array([[0, 1, 2],\n",
      "           [3, 4, 5]])\n",
      "    >>> np.reshape(np.ravel(a), (2, 3)) # equivalent to C ravel then C reshape\n",
      "    array([[0, 1, 2],\n",
      "           [3, 4, 5]])\n",
      "    >>> np.reshape(a, (2, 3), order='F') # Fortran-like index ordering\n",
      "    array([[0, 4, 3],\n",
      "           [2, 1, 5]])\n",
      "    >>> np.reshape(np.ravel(a, order='F'), (2, 3), order='F')\n",
      "    array([[0, 4, 3],\n",
      "           [2, 1, 5]])\n",
      "\n",
      "    Examples\n",
      "    --------\n",
      "    >>> a = np.array([[1,2,3], [4,5,6]])\n",
      "    >>> np.reshape(a, 6)\n",
      "    array([1, 2, 3, 4, 5, 6])\n",
      "    >>> np.reshape(a, 6, order='F')\n",
      "    array([1, 4, 2, 5, 3, 6])\n",
      "\n",
      "    >>> np.reshape(a, (3,-1))       # the unspecified value is inferred to be 2\n",
      "    array([[1, 2],\n",
      "           [3, 4],\n",
      "           [5, 6]])\n",
      "\n"
     ]
    }
   ],
   "source": [
    "help(np.reshape)"
   ]
  },
  {
   "cell_type": "code",
   "execution_count": 64,
   "id": "cc257fe7-42a1-4f68-8342-672555a8e4c6",
   "metadata": {},
   "outputs": [],
   "source": [
    "np.savetxt('climate_results.txt', \n",
    "           climate_results, \n",
    "          fmt='%.2f',\n",
    "          header='temprature, rainfall, humidity, yeild_apples',\n",
    "          comments=' ')"
   ]
  },
  {
   "cell_type": "markdown",
   "id": "932950bc-28ec-4cc5-a618-c3ecdd183ab8",
   "metadata": {},
   "source": [
    "# Arithmetic Operations and Broadcasting"
   ]
  },
  {
   "cell_type": "code",
   "execution_count": 67,
   "id": "84dc0ddc-9ff0-4f8f-9ca2-02af0a9b2758",
   "metadata": {},
   "outputs": [],
   "source": [
    "arr2 = np.array([[1,2,3,4],\n",
    "                 [5,6,7,8],\n",
    "                 [9,1,2,3]])"
   ]
  },
  {
   "cell_type": "code",
   "execution_count": 68,
   "id": "30b5677c-2c55-4252-8c58-dae9a0855394",
   "metadata": {},
   "outputs": [],
   "source": [
    "arr3 = np.array([[11,12,13,14],\n",
    "                 [15,16,17,18],\n",
    "                 [19,11,12,13]])"
   ]
  },
  {
   "cell_type": "code",
   "execution_count": 70,
   "id": "5322ece4-16a4-4f2d-859a-835f8accbe44",
   "metadata": {},
   "outputs": [
    {
     "data": {
      "text/plain": [
       "array([[12, 14, 16, 18],\n",
       "       [20, 22, 24, 26],\n",
       "       [28, 12, 14, 16]])"
      ]
     },
     "execution_count": 70,
     "metadata": {},
     "output_type": "execute_result"
    }
   ],
   "source": [
    "arr2 + arr3"
   ]
  },
  {
   "cell_type": "code",
   "execution_count": 69,
   "id": "fa5f37ca-a952-4d72-badb-2304524cbc52",
   "metadata": {},
   "outputs": [
    {
     "data": {
      "text/plain": [
       "array([[ 4,  5,  6,  7],\n",
       "       [ 8,  9, 10, 11],\n",
       "       [12,  4,  5,  6]])"
      ]
     },
     "execution_count": 69,
     "metadata": {},
     "output_type": "execute_result"
    }
   ],
   "source": [
    "# Adding a scalar\n",
    "arr2 + 3"
   ]
  },
  {
   "cell_type": "code",
   "execution_count": 71,
   "id": "2ebed4c1-fa57-42af-aec7-b0e89d0fa6ce",
   "metadata": {},
   "outputs": [
    {
     "data": {
      "text/plain": [
       "array([[10, 10, 10, 10],\n",
       "       [10, 10, 10, 10],\n",
       "       [10, 10, 10, 10]])"
      ]
     },
     "execution_count": 71,
     "metadata": {},
     "output_type": "execute_result"
    }
   ],
   "source": [
    "arr3 - arr2"
   ]
  },
  {
   "cell_type": "code",
   "execution_count": 72,
   "id": "f0cd1817-0d36-4971-9a4c-f3397ebb466d",
   "metadata": {},
   "outputs": [
    {
     "data": {
      "text/plain": [
       "array([[0.5, 1. , 1.5, 2. ],\n",
       "       [2.5, 3. , 3.5, 4. ],\n",
       "       [4.5, 0.5, 1. , 1.5]])"
      ]
     },
     "execution_count": 72,
     "metadata": {},
     "output_type": "execute_result"
    }
   ],
   "source": [
    "# Divsion by scalar\n",
    "arr2 / 2"
   ]
  },
  {
   "cell_type": "code",
   "execution_count": 73,
   "id": "dcae9d91-911d-4238-8e5d-60230dab6f1a",
   "metadata": {},
   "outputs": [
    {
     "data": {
      "text/plain": [
       "array([[1, 2, 3, 0],\n",
       "       [1, 2, 3, 0],\n",
       "       [1, 1, 2, 3]], dtype=int32)"
      ]
     },
     "execution_count": 73,
     "metadata": {},
     "output_type": "execute_result"
    }
   ],
   "source": [
    "arr2 % 4"
   ]
  },
  {
   "cell_type": "code",
   "execution_count": 74,
   "id": "4cc9458f-f578-4475-aaab-bcecdecdcaf8",
   "metadata": {},
   "outputs": [],
   "source": [
    "arr2 = np.array([[1,2,3,4],\n",
    "                 [5,6,7,8],\n",
    "                 [9,1,2,3]])"
   ]
  },
  {
   "cell_type": "code",
   "execution_count": 75,
   "id": "1d8e9376-92c1-436b-9c81-060392c44ea8",
   "metadata": {},
   "outputs": [
    {
     "data": {
      "text/plain": [
       "(3, 4)"
      ]
     },
     "execution_count": 75,
     "metadata": {},
     "output_type": "execute_result"
    }
   ],
   "source": [
    "arr2.shape"
   ]
  },
  {
   "cell_type": "code",
   "execution_count": 76,
   "id": "de2d2825-8736-4076-bbb2-5011cfdb65dc",
   "metadata": {},
   "outputs": [],
   "source": [
    " arr4 = np.array([4,5,6,7])"
   ]
  },
  {
   "cell_type": "code",
   "execution_count": 77,
   "id": "2262330d-ec15-41a1-9aae-4375d582d21b",
   "metadata": {},
   "outputs": [
    {
     "data": {
      "text/plain": [
       "(4,)"
      ]
     },
     "execution_count": 77,
     "metadata": {},
     "output_type": "execute_result"
    }
   ],
   "source": [
    "arr4.shape"
   ]
  },
  {
   "cell_type": "code",
   "execution_count": 78,
   "id": "afabcda0-d3de-4ca6-af74-7b21f4dc861b",
   "metadata": {},
   "outputs": [
    {
     "data": {
      "text/plain": [
       "array([[ 5,  7,  9, 11],\n",
       "       [ 9, 11, 13, 15],\n",
       "       [13,  6,  8, 10]])"
      ]
     },
     "execution_count": 78,
     "metadata": {},
     "output_type": "execute_result"
    }
   ],
   "source": [
    "# elements of array4 will be added to array2 elements row wise with all the rows of array2\n",
    "arr2 + arr4"
   ]
  },
  {
   "cell_type": "code",
   "execution_count": 79,
   "id": "10dcf164-c132-4fde-86f8-6d5c0fb99909",
   "metadata": {},
   "outputs": [],
   "source": [
    "arr5 = np.array([7,8])"
   ]
  },
  {
   "cell_type": "code",
   "execution_count": 82,
   "id": "b3636a9f-f077-45a6-b2c7-bac0278c34d5",
   "metadata": {},
   "outputs": [
    {
     "data": {
      "text/plain": [
       "(2,)"
      ]
     },
     "execution_count": 82,
     "metadata": {},
     "output_type": "execute_result"
    }
   ],
   "source": [
    "arr5.shape"
   ]
  },
  {
   "cell_type": "code",
   "execution_count": 85,
   "id": "fed6de8a-14df-4db9-89da-0b19e66bbd63",
   "metadata": {},
   "outputs": [],
   "source": [
    "# arr2 + arr5 # this will throw error "
   ]
  },
  {
   "cell_type": "code",
   "execution_count": 86,
   "id": "05a907a3-e6c1-4317-97a9-7a211046635c",
   "metadata": {},
   "outputs": [],
   "source": [
    "arr1 = np.array([[1,2,3,4],[4,5,6,7]])\n",
    "arr2 = np.array([[11,22,35,43],[44,54,66,78]])"
   ]
  },
  {
   "cell_type": "code",
   "execution_count": 87,
   "id": "bdefbb66-5ea8-4703-b803-3d05fdf115ed",
   "metadata": {},
   "outputs": [
    {
     "data": {
      "text/plain": [
       "array([[False, False, False, False],\n",
       "       [False, False, False, False]])"
      ]
     },
     "execution_count": 87,
     "metadata": {},
     "output_type": "execute_result"
    }
   ],
   "source": [
    "arr1 == arr2"
   ]
  },
  {
   "cell_type": "code",
   "execution_count": 88,
   "id": "16dc7a64-60b8-44bb-8f77-8513e7e00874",
   "metadata": {},
   "outputs": [
    {
     "data": {
      "text/plain": [
       "array([[ True,  True,  True,  True],\n",
       "       [ True,  True,  True,  True]])"
      ]
     },
     "execution_count": 88,
     "metadata": {},
     "output_type": "execute_result"
    }
   ],
   "source": [
    "arr1 != arr2"
   ]
  },
  {
   "cell_type": "code",
   "execution_count": 89,
   "id": "c335fdce-cb7a-4d58-879f-a70f8e287617",
   "metadata": {},
   "outputs": [
    {
     "data": {
      "text/plain": [
       "array([[False, False, False, False],\n",
       "       [False, False, False, False]])"
      ]
     },
     "execution_count": 89,
     "metadata": {},
     "output_type": "execute_result"
    }
   ],
   "source": [
    "arr1 > arr2"
   ]
  },
  {
   "cell_type": "code",
   "execution_count": 90,
   "id": "3e32f074-589c-438f-96b7-c09512916c21",
   "metadata": {},
   "outputs": [
    {
     "data": {
      "text/plain": [
       "array([[ True,  True,  True,  True],\n",
       "       [ True,  True,  True,  True]])"
      ]
     },
     "execution_count": 90,
     "metadata": {},
     "output_type": "execute_result"
    }
   ],
   "source": [
    "arr1 < arr2"
   ]
  },
  {
   "cell_type": "code",
   "execution_count": 91,
   "id": "340030a6-4bd2-4522-a316-43d47f9b4f0c",
   "metadata": {},
   "outputs": [
    {
     "data": {
      "text/plain": [
       "array([[False, False, False, False],\n",
       "       [False, False, False, False]])"
      ]
     },
     "execution_count": 91,
     "metadata": {},
     "output_type": "execute_result"
    }
   ],
   "source": [
    "arr1 >= arr2"
   ]
  },
  {
   "cell_type": "code",
   "execution_count": 92,
   "id": "eff151cb-47d0-492a-b3b8-682d94fab34f",
   "metadata": {},
   "outputs": [
    {
     "data": {
      "text/plain": [
       "array([[ True,  True,  True,  True],\n",
       "       [ True,  True,  True,  True]])"
      ]
     },
     "execution_count": 92,
     "metadata": {},
     "output_type": "execute_result"
    }
   ],
   "source": [
    "arr1 <= arr2"
   ]
  },
  {
   "cell_type": "code",
   "execution_count": 94,
   "id": "9c95f6ff-dc9c-44ff-b517-75d0da751495",
   "metadata": {},
   "outputs": [
    {
     "data": {
      "text/plain": [
       "8"
      ]
     },
     "execution_count": 94,
     "metadata": {},
     "output_type": "execute_result"
    }
   ],
   "source": [
    "# number of matching elements in the array\n",
    "(arr1 == arr2).sum()  "
   ]
  },
  {
   "cell_type": "code",
   "execution_count": 98,
   "id": "e75ff2f0-2474-4864-a054-e79fde749efa",
   "metadata": {},
   "outputs": [],
   "source": [
    "arr3 = np.array([\n",
    "            [[11,12,13,14],\n",
    "             [15,16,17,18]],\n",
    "    \n",
    "            [[15,16,17,21],\n",
    "             [34,45,56,78]],\n",
    "    \n",
    "            [[98,34,12,56],\n",
    "             [17,18,19.5,3]]\n",
    "                            ])"
   ]
  },
  {
   "cell_type": "code",
   "execution_count": 99,
   "id": "a99af52d-29b3-4b9a-993e-328697293c01",
   "metadata": {},
   "outputs": [
    {
     "data": {
      "text/plain": [
       "(3, 2, 4)"
      ]
     },
     "execution_count": 99,
     "metadata": {},
     "output_type": "execute_result"
    }
   ],
   "source": [
    "arr3.shape"
   ]
  },
  {
   "cell_type": "code",
   "execution_count": 100,
   "id": "dec5b6aa-04b4-4a08-ab9f-92ef321e54c6",
   "metadata": {},
   "outputs": [
    {
     "data": {
      "text/plain": [
       "56.0"
      ]
     },
     "execution_count": 100,
     "metadata": {},
     "output_type": "execute_result"
    }
   ],
   "source": [
    "# single element using indexing\n",
    "arr3[1, 1, 2]"
   ]
  },
  {
   "cell_type": "code",
   "execution_count": 101,
   "id": "497dd544-196c-47ac-b0b2-9a5ea6682145",
   "metadata": {},
   "outputs": [
    {
     "data": {
      "text/plain": [
       "array([[[11., 12.]],\n",
       "\n",
       "       [[15., 16.]],\n",
       "\n",
       "       [[98., 34.]]])"
      ]
     },
     "execution_count": 101,
     "metadata": {},
     "output_type": "execute_result"
    }
   ],
   "source": [
    "# subarray using ranges\n",
    "arr3[0:, 0:1, :2]"
   ]
  },
  {
   "cell_type": "code",
   "execution_count": 102,
   "id": "3774774c-7983-4b70-ba40-00a994286f6f",
   "metadata": {},
   "outputs": [
    {
     "data": {
      "text/plain": [
       "array([[34. , 45. , 56. ],\n",
       "       [17. , 18. , 19.5]])"
      ]
     },
     "execution_count": 102,
     "metadata": {},
     "output_type": "execute_result"
    }
   ],
   "source": [
    "# mixing indexing and slicing\n",
    "arr3[1:, 1, :3]"
   ]
  },
  {
   "cell_type": "code",
   "execution_count": 104,
   "id": "b294c5a3-98e2-4928-b135-e5bdafcbdd94",
   "metadata": {},
   "outputs": [
    {
     "data": {
      "text/plain": [
       "array([[11., 12., 13., 14.],\n",
       "       [15., 16., 17., 18.]])"
      ]
     },
     "execution_count": 104,
     "metadata": {},
     "output_type": "execute_result"
    }
   ],
   "source": [
    "# Using fewer indices\n",
    "arr3[0]"
   ]
  },
  {
   "cell_type": "code",
   "execution_count": 105,
   "id": "67e6be0b-b7cc-424f-8b8f-75f5e73f1a9b",
   "metadata": {},
   "outputs": [
    {
     "data": {
      "text/plain": [
       "array([[98. , 34. , 12. , 56. ],\n",
       "       [17. , 18. , 19.5,  3. ]])"
      ]
     },
     "execution_count": 105,
     "metadata": {},
     "output_type": "execute_result"
    }
   ],
   "source": [
    "arr3[2]"
   ]
  },
  {
   "cell_type": "markdown",
   "id": "6acebd49-720b-4f16-b3f3-67a87994df82",
   "metadata": {},
   "source": [
    "# Other ways of Creatign Numpy Arrays"
   ]
  },
  {
   "cell_type": "code",
   "execution_count": 107,
   "id": "3aef781d-fdd3-4af5-b743-d37cdb78c768",
   "metadata": {},
   "outputs": [
    {
     "data": {
      "text/plain": [
       "array([[0., 0.],\n",
       "       [0., 0.],\n",
       "       [0., 0.]])"
      ]
     },
     "execution_count": 107,
     "metadata": {},
     "output_type": "execute_result"
    }
   ],
   "source": [
    "np.zeros((3, 2))"
   ]
  },
  {
   "cell_type": "code",
   "execution_count": 108,
   "id": "2e1ad777-e30a-44ca-905b-f1205c57d146",
   "metadata": {},
   "outputs": [
    {
     "data": {
      "text/plain": [
       "array([[1., 1.],\n",
       "       [1., 1.],\n",
       "       [1., 1.]])"
      ]
     },
     "execution_count": 108,
     "metadata": {},
     "output_type": "execute_result"
    }
   ],
   "source": [
    "np.ones((3, 2))"
   ]
  },
  {
   "cell_type": "code",
   "execution_count": 109,
   "id": "2918a6b9-9ea5-4204-8db9-797ee8dbdc77",
   "metadata": {},
   "outputs": [
    {
     "data": {
      "text/plain": [
       "array([[1., 0., 0.],\n",
       "       [0., 1., 0.],\n",
       "       [0., 0., 1.]])"
      ]
     },
     "execution_count": 109,
     "metadata": {},
     "output_type": "execute_result"
    }
   ],
   "source": [
    "np.eye(3)"
   ]
  },
  {
   "cell_type": "code",
   "execution_count": 111,
   "id": "6345c103-a697-4612-b50a-812912cacdb5",
   "metadata": {},
   "outputs": [
    {
     "data": {
      "text/plain": [
       "array([0.15151016, 0.85308965, 0.06429687, 0.20938892, 0.07092626])"
      ]
     },
     "execution_count": 111,
     "metadata": {},
     "output_type": "execute_result"
    }
   ],
   "source": [
    "# random vector\n",
    "np.random.rand(5)"
   ]
  },
  {
   "cell_type": "code",
   "execution_count": 113,
   "id": "7d12117b-e4a9-4258-bc2b-2f8b9cde9a93",
   "metadata": {},
   "outputs": [
    {
     "data": {
      "text/plain": [
       "array([[-1.74293236,  0.64379856,  0.13921597],\n",
       "       [-0.68832052,  1.07015625, -0.3689809 ]])"
      ]
     },
     "execution_count": 113,
     "metadata": {},
     "output_type": "execute_result"
    }
   ],
   "source": [
    "np.random.randn(2, 3)"
   ]
  },
  {
   "cell_type": "code",
   "execution_count": 114,
   "id": "fe24878d-deda-4a82-bc2a-764b9baf530d",
   "metadata": {},
   "outputs": [
    {
     "data": {
      "text/plain": [
       "array([[42, 42, 42],\n",
       "       [42, 42, 42]])"
      ]
     },
     "execution_count": 114,
     "metadata": {},
     "output_type": "execute_result"
    }
   ],
   "source": [
    "np.full([2, 3], 42)"
   ]
  },
  {
   "cell_type": "code",
   "execution_count": 116,
   "id": "66ef2dcf-339a-4685-8b56-9663dfe0a656",
   "metadata": {},
   "outputs": [
    {
     "data": {
      "text/plain": [
       "array([ 9, 12, 15, 18, 21, 24, 27, 30, 33, 36, 39, 42, 45, 48, 51, 54, 57,\n",
       "       60, 63, 66, 69, 72, 75, 78, 81, 84, 87])"
      ]
     },
     "execution_count": 116,
     "metadata": {},
     "output_type": "execute_result"
    }
   ],
   "source": [
    "# array with range(start, stop - 1, step)\n",
    "np.arange(9, 90, 3)"
   ]
  },
  {
   "cell_type": "code",
   "execution_count": 118,
   "id": "753caef2-6471-4608-9f15-bd9ff69fcfa6",
   "metadata": {},
   "outputs": [
    {
     "data": {
      "text/plain": [
       "array([[[ 9, 12, 15],\n",
       "        [18, 21, 24],\n",
       "        [27, 30, 33]],\n",
       "\n",
       "       [[36, 39, 42],\n",
       "        [45, 48, 51],\n",
       "        [54, 57, 60]],\n",
       "\n",
       "       [[63, 66, 69],\n",
       "        [72, 75, 78],\n",
       "        [81, 84, 87]]])"
      ]
     },
     "execution_count": 118,
     "metadata": {},
     "output_type": "execute_result"
    }
   ],
   "source": [
    "np.arange(9, 90, 3).reshape(3,3,3)"
   ]
  },
  {
   "cell_type": "code",
   "execution_count": 117,
   "id": "fd62ead4-a158-4c75-9b4e-3d8e3c90aaa6",
   "metadata": {},
   "outputs": [
    {
     "data": {
      "text/plain": [
       "array([ 3.,  6.,  9., 12., 15., 18., 21., 24., 27.])"
      ]
     },
     "execution_count": 117,
     "metadata": {},
     "output_type": "execute_result"
    }
   ],
   "source": [
    "np.linspace(3, 27, 9)"
   ]
  },
  {
   "cell_type": "markdown",
   "id": "fcb5016e-7440-45eb-a1f4-4495acedf2d6",
   "metadata": {},
   "source": [
    "# Interacting with OS and FileSystem"
   ]
  },
  {
   "cell_type": "code",
   "execution_count": 3,
   "id": "0ac47f44-2803-4ed3-85da-672f4a02514c",
   "metadata": {},
   "outputs": [],
   "source": [
    "import os"
   ]
  },
  {
   "cell_type": "code",
   "execution_count": 4,
   "id": "49a2fc05-383b-4caa-a776-722f28da4392",
   "metadata": {},
   "outputs": [
    {
     "data": {
      "text/plain": [
       "'C:\\\\Users\\\\Sajal\\\\Documents\\\\Data Analysis with Python'"
      ]
     },
     "execution_count": 4,
     "metadata": {},
     "output_type": "execute_result"
    }
   ],
   "source": [
    "# get current working directory\n",
    "os.getcwd()"
   ]
  },
  {
   "cell_type": "code",
   "execution_count": 5,
   "id": "8715c74a-02e4-46f3-b3f0-37f441b372ce",
   "metadata": {},
   "outputs": [
    {
     "name": "stdout",
     "output_type": "stream",
     "text": [
      "Help on built-in function listdir in module nt:\n",
      "\n",
      "listdir(path=None)\n",
      "    Return a list containing the names of the files in the directory.\n",
      "\n",
      "    path can be specified as either str, bytes, or a path-like object.  If path is bytes,\n",
      "      the filenames returned will also be bytes; in all other circumstances\n",
      "      the filenames returned will be str.\n",
      "    If path is None, uses the path='.'.\n",
      "    On some platforms, path may also be specified as an open file descriptor;\\\n",
      "      the file descriptor must refer to a directory.\n",
      "      If this functionality is unavailable, using it raises NotImplementedError.\n",
      "\n",
      "    The list is in arbitrary order.  It does not include the special\n",
      "    entries '.' and '..' even if they are present in the directory.\n",
      "\n"
     ]
    }
   ],
   "source": [
    "help(os.listdir)"
   ]
  },
  {
   "cell_type": "code",
   "execution_count": 6,
   "id": "43c58d0b-37f2-4476-b4b7-33a3f0676929",
   "metadata": {},
   "outputs": [
    {
     "data": {
      "text/plain": [
       "['.ipynb_checkpoints',\n",
       " '01.Numertical Computing with Numpy.ipynb',\n",
       " 'climate_results.txt',\n",
       " 'temperature_rainfall_humidity_10000.csv',\n",
       " 'temperature_rainfall_humidity_10000.txt']"
      ]
     },
     "execution_count": 6,
     "metadata": {},
     "output_type": "execute_result"
    }
   ],
   "source": [
    "# list directories  (relative path)\n",
    "os.listdir('.')"
   ]
  },
  {
   "cell_type": "code",
   "execution_count": 13,
   "id": "a8c6445d-3712-430c-9a6e-78587469c480",
   "metadata": {},
   "outputs": [
    {
     "data": {
      "text/plain": [
       "list"
      ]
     },
     "execution_count": 13,
     "metadata": {},
     "output_type": "execute_result"
    }
   ],
   "source": [
    "type(os.listdir('.'))"
   ]
  },
  {
   "cell_type": "code",
   "execution_count": 1,
   "id": "07351ff1-f1ac-4e44-9581-2695c512ebdc",
   "metadata": {},
   "outputs": [],
   "source": [
    "# list directories  (relative path)\n",
    "os.listdir('/Data Analysis with Python')"
   ]
  },
  {
   "cell_type": "code",
   "execution_count": 8,
   "id": "8847615f-908d-48d3-a2bb-c64d59d74de8",
   "metadata": {},
   "outputs": [],
   "source": [
    "os.makedirs('.\\\\data', exist_ok = True)"
   ]
  },
  {
   "cell_type": "code",
   "execution_count": 9,
   "id": "a1d6b5d5-0269-41b1-94c4-95d4dd1d698a",
   "metadata": {},
   "outputs": [
    {
     "data": {
      "text/plain": [
       "['.ipynb_checkpoints',\n",
       " '01.Numertical Computing with Numpy.ipynb',\n",
       " 'climate_results.txt',\n",
       " 'data',\n",
       " 'temperature_rainfall_humidity_10000.csv',\n",
       " 'temperature_rainfall_humidity_10000.txt']"
      ]
     },
     "execution_count": 9,
     "metadata": {},
     "output_type": "execute_result"
    }
   ],
   "source": [
    "os.listdir('.')"
   ]
  },
  {
   "cell_type": "code",
   "execution_count": 10,
   "id": "b66813e0-dad2-4545-af96-86475446d254",
   "metadata": {},
   "outputs": [
    {
     "data": {
      "text/plain": [
       "True"
      ]
     },
     "execution_count": 10,
     "metadata": {},
     "output_type": "execute_result"
    }
   ],
   "source": [
    "'data' in os.listdir('.')"
   ]
  },
  {
   "cell_type": "code",
   "execution_count": 11,
   "id": "9c7fa114-dfc1-4bc9-b238-be734731abb3",
   "metadata": {},
   "outputs": [
    {
     "data": {
      "text/plain": [
       "[]"
      ]
     },
     "execution_count": 11,
     "metadata": {},
     "output_type": "execute_result"
    }
   ],
   "source": [
    "os.listdir('.\\\\data')"
   ]
  }
 ],
 "metadata": {
  "kernelspec": {
   "display_name": "Python 3 (ipykernel)",
   "language": "python",
   "name": "python3"
  },
  "language_info": {
   "codemirror_mode": {
    "name": "ipython",
    "version": 3
   },
   "file_extension": ".py",
   "mimetype": "text/x-python",
   "name": "python",
   "nbconvert_exporter": "python",
   "pygments_lexer": "ipython3",
   "version": "3.12.7"
  }
 },
 "nbformat": 4,
 "nbformat_minor": 5
}
